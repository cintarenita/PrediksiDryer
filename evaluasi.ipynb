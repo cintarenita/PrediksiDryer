{
 "cells": [
  {
   "cell_type": "code",
   "execution_count": 1,
   "id": "e933e6da",
   "metadata": {},
   "outputs": [
    {
     "name": "stdout",
     "output_type": "stream",
     "text": [
      "Empty DataFrame\n",
      "Columns: []\n",
      "Index: []\n",
      "\n",
      "✅ Hasil evaluasi disimpan ke evaluasi_semua_model.csv\n"
     ]
    }
   ],
   "source": [
    "import pandas as pd\n",
    "import numpy as np\n",
    "import joblib\n",
    "import os\n",
    "from sklearn.metrics import mean_squared_error, r2_score\n",
    "\n",
    "# Load data\n",
    "df = pd.read_csv(\"Merged (Gas per jam).csv\")\n",
    "df.dropna(inplace=True)\n",
    "\n",
    "# Input dan Target\n",
    "input_features = ['GAS_MMBTU']\n",
    "target_columns = ['D101330TT (Tem.outlet chamber)', 'D102265TIC_PV (Temp. inlet chamber)', 'D102260TIC_CV (High press. Steam damper)', 'D102265TIC_CV (Low press. Steam damper)', 'D102266TIC (Main heater dehumidifier)']\n",
    "\n",
    "# Folder model\n",
    "model_dir = \"saved_models_v2\"\n",
    "\n",
    "# Model type mapping\n",
    "model_types = {\n",
    "    \"xgb\": \"XGBoost\",\n",
    "    \"rf\": \"Random Forest\",\n",
    "    \"dt\": \"Decision Tree\"\n",
    "}\n",
    "\n",
    "# Menyimpan hasil evaluasi\n",
    "all_results = []\n",
    "\n",
    "for model_prefix, model_name in model_types.items():\n",
    "    for target in target_columns:\n",
    "        model_path = os.path.join(model_dir, f\"{model_prefix}_model_{target}.pkl\")\n",
    "        if os.path.exists(model_path):\n",
    "            model = joblib.load(model_path)\n",
    "\n",
    "            # Split X dan y\n",
    "            X = df[input_features].values\n",
    "            y_true = df[target].values\n",
    "\n",
    "            # Prediksi\n",
    "            y_pred = model.predict(X)\n",
    "\n",
    "            mse = mean_squared_error(y_true, y_pred)\n",
    "            rmse = np.sqrt(mse)\n",
    "            r2 = r2_score(y_true, y_pred)\n",
    "            mean_actual = np.mean(y_true)\n",
    "            mean_pred = np.mean(y_pred)\n",
    "            accuracy_vs_mean = 100 - abs(mean_pred - mean_actual) / mean_actual * 100\n",
    "\n",
    "            all_results.append({\n",
    "                \"Model\": model_name,\n",
    "                \"Target Parameter\": target,\n",
    "                \"MSE\": round(mse, 4),\n",
    "                \"RMSE\": round(rmse, 4),\n",
    "                \"R²\": round(r2, 4),\n",
    "                \"Rata-rata Aktual\": round(mean_actual, 2),\n",
    "                \"Rata-rata Prediksi\": round(mean_pred, 2),\n",
    "                \"Akurasi terhadap Rata-rata (%)\": round(accuracy_vs_mean, 2)\n",
    "            })\n",
    "\n",
    "# Tampilkan hasil\n",
    "df_result = pd.DataFrame(all_results)\n",
    "print(df_result)\n",
    "\n",
    "# Simpan ke file\n",
    "df_result.to_csv(\"evaluasi_semua_model.csv\", index=False)\n",
    "print(\"\\n✅ Hasil evaluasi disimpan ke evaluasi_semua_model.csv\")\n"
   ]
  },
  {
   "cell_type": "code",
   "execution_count": null,
   "id": "90d0a2c5",
   "metadata": {},
   "outputs": [],
   "source": []
  }
 ],
 "metadata": {
  "kernelspec": {
   "display_name": "Python (Dryer GPR)",
   "language": "python",
   "name": "dryer_kernel"
  },
  "language_info": {
   "codemirror_mode": {
    "name": "ipython",
    "version": 3
   },
   "file_extension": ".py",
   "mimetype": "text/x-python",
   "name": "python",
   "nbconvert_exporter": "python",
   "pygments_lexer": "ipython3",
   "version": "3.11.9"
  }
 },
 "nbformat": 4,
 "nbformat_minor": 5
}
